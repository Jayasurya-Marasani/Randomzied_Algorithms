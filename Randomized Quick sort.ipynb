{
 "cells": [
  {
   "cell_type": "markdown",
   "metadata": {},
   "source": [
    "Lomuto Partition"
   ]
  },
  {
   "cell_type": "markdown",
   "metadata": {},
   "source": [
    "Algorithm"
   ]
  },
  {
   "cell_type": "code",
   "execution_count": 3,
   "metadata": {},
   "outputs": [
    {
     "data": {
      "text/plain": [
       "'\\n1) The functionn random generator generates random integer:\\n            between the starting index and the ending index\\n            \\n2) The function partitioner is to  swap the starting index of the array and the pivot\\n\\n3) The function partition is to rearrange according to the pivot\\nElement < pivot :\\n  to the left of the  pivot\\nElement > pivot :\\n  Placed to the right of the pivot\\n  \\n4) The function quicksort:\\n    if stat index < stop index:\\n            we partition it and then:\\n            and call left quick sort   (left of the pivot)\\n            and right quick sort       (right of the pivot)\\n    \\n'"
      ]
     },
     "execution_count": 3,
     "metadata": {},
     "output_type": "execute_result"
    }
   ],
   "source": [
    "'''\n",
    "1) The functionn random generator generates random integer:\n",
    "            between the starting index and the ending index\n",
    "            \n",
    "2) The function partitioner is to  swap the starting index of the array and the pivot\n",
    "\n",
    "3) The function partition is to rearrange according to the pivot\n",
    "Element < pivot :\n",
    "  to the left of the  pivot\n",
    "Element > pivot :\n",
    "  Placed to the right of the pivot\n",
    "  \n",
    "4) The function quicksort:\n",
    "    if stat index < stop index:\n",
    "            we partition it and then:\n",
    "            and call left quick sort   (left of the pivot)\n",
    "            and right quick sort       (right of the pivot)\n",
    "    \n",
    "'''"
   ]
  },
  {
   "cell_type": "markdown",
   "metadata": {},
   "source": [
    "Code"
   ]
  },
  {
   "cell_type": "code",
   "execution_count": 4,
   "metadata": {},
   "outputs": [
    {
     "name": "stdout",
     "output_type": "stream",
     "text": [
      "Enter the elements of the array:  34 2 42  2 2\n",
      "[2, 2, 2, 34, 42]\n"
     ]
    }
   ],
   "source": [
    "\n",
    "import random\n",
    "\n",
    "        \n",
    "def   random_generator(start, stop):\n",
    "    return random.randrange(start, stop)\n",
    "        \n",
    "    \n",
    "def  partitioner(arr , start, stop):\n",
    "    randpivot=random_generator(start , stop)\n",
    "    arr[start], arr[randpivot] =arr[randpivot], arr[start]\n",
    "    return partition(arr, start, stop)\n",
    " \n",
    "    \n",
    "def partition(arr,start,stop):\n",
    "    pivot = start \n",
    "    i = start + 1\n",
    "    for j in range(start + 1, stop + 1):\n",
    "        if arr[j] <= arr[pivot]:\n",
    "            arr[i] , arr[j] = arr[j] , arr[i]\n",
    "            i = i + 1\n",
    "            \n",
    "    arr[pivot] , arr[i - 1] =arr[i - 1] , arr[pivot]\n",
    "    pivot = i - 1\n",
    "    return (pivot)\n",
    " \n",
    "    \n",
    "    \n",
    "def quicksort(arr, start , stop):\n",
    "    if(start < stop):\n",
    "        pivotindex = partitioner(arr,start, stop)\n",
    "        quicksort(arr , start , pivotindex-1)\n",
    "        quicksort(arr, pivotindex + 1, stop)\n",
    "\n",
    "        \n",
    "        \n",
    "if __name__ == \"__main__\":\n",
    "    arr =input(\"Enter the elements of the array: \")\n",
    "    arr= [int(x)  for x in arr.split()]\n",
    "    n,l,r=len(arr),0,len(arr)-1\n",
    "    quicksort(arr, l, r)\n",
    "    print(arr)"
   ]
  },
  {
   "cell_type": "markdown",
   "metadata": {},
   "source": [
    "Hoare partitioning"
   ]
  },
  {
   "cell_type": "markdown",
   "metadata": {},
   "source": [
    "Algorithm"
   ]
  },
  {
   "cell_type": "code",
   "execution_count": 2,
   "metadata": {},
   "outputs": [
    {
     "data": {
      "text/plain": [
       "'\\npartition(arr[], lo, hi)\\nInitialize left and right index\\n   while(True):\\n          Find a value in left side greater than pivot\\n          while arr[i] < pivot\\n             Find a value in right side smaller than pivot\\n          while arr[j] > pivot\\n          if i >= j:\\n              return j\\n              else:\\n                       swap arr[i] with arr[j]\\n\\npartition_r(arr[], lo, hi)\\n   r = Random number from lo to hi\\n   Swap arr[r] and arr[lo]\\n   return partition(arr, lo, hi)\\n\\nquicksort(arr[], lo, hi)\\n   if lo < hi\\n       p = partition_r(arr, lo, hi)\\n       quicksort(arr, lo, p)\\n       quicksort(arr, p+1, hi)\\n\\n'"
      ]
     },
     "execution_count": 2,
     "metadata": {},
     "output_type": "execute_result"
    }
   ],
   "source": [
    "'''\n",
    "partition(arr[], lo, hi)\n",
    "Initialize left and right index\n",
    "   while(True):\n",
    "          Find a value in left side greater than pivot\n",
    "          while arr[i] < pivot\n",
    "             Find a value in right side smaller than pivot\n",
    "          while arr[j] > pivot\n",
    "          if i >= j:\n",
    "              return j\n",
    "              else:\n",
    "                       swap arr[i] with arr[j]\n",
    "\n",
    "partition_r(arr[], lo, hi)\n",
    "   r = Random number from lo to hi\n",
    "   Swap arr[r] and arr[lo]\n",
    "   return partition(arr, lo, hi)\n",
    "\n",
    "quicksort(arr[], lo, hi)\n",
    "   if lo < hi\n",
    "       p = partition_r(arr, lo, hi)\n",
    "       quicksort(arr, lo, p)\n",
    "       quicksort(arr, p+1, hi)\n",
    "\n",
    "'''"
   ]
  },
  {
   "cell_type": "markdown",
   "metadata": {},
   "source": [
    "Code"
   ]
  },
  {
   "cell_type": "code",
   "execution_count": 14,
   "metadata": {},
   "outputs": [
    {
     "name": "stdout",
     "output_type": "stream",
     "text": [
      "Enter the elements of the array: 5 4 3 2 1\n",
      "[1, 2, 3, 4, 5]\n"
     ]
    }
   ],
   "source": [
    "\n",
    " \n",
    "import random\n",
    "\n",
    "\n",
    "def random_generator(start, stop):\n",
    "    return random.randrange(start, stop)\n",
    "\n",
    "\n",
    "def partitioner(arr , start, stop):\n",
    "    randpivot=random_generator(start , stop)\n",
    "    arr[start], arr[randpivot] =\\\n",
    "        arr[randpivot], arr[start]\n",
    "    return partition(arr, start, stop)\n",
    " \n",
    "\n",
    "def partition(arr,start,stop):\n",
    "    pivot = start # pivot\n",
    "    i = start - 1\n",
    "    j = stop + 1\n",
    "    while True:\n",
    "        while True:\n",
    "            i = i + 1\n",
    "            if arr[i] >= arr[pivot]:\n",
    "                break\n",
    "        while True:\n",
    "            j = j - 1\n",
    "            if arr[j] <= arr[pivot]:\n",
    "                break\n",
    "        if i >= j:\n",
    "            return j\n",
    "        arr[i] , arr[j] = arr[j] , arr[i]\n",
    " \n",
    "\n",
    "#for sorting \n",
    "def quicksort(arr, start, stop):\n",
    "    if(start < stop):\n",
    "        pivotindex = partitioner(arr,start, stop)\n",
    "\n",
    "        quicksort(arr , start , pivotindex)\n",
    "        quicksort(arr, pivotindex + 1, stop)\n",
    "        \n",
    "        \n",
    "        \n",
    "if __name__ == \"__main__\":\n",
    "    arr =input(\"Enter the elements of the array: \")\n",
    "    arr= [int(x)  for x in arr.split()]\n",
    "    n,l,r=len(arr),0,len(arr)-1\n",
    "    quicksort(arr, l, r)\n",
    "    print(arr)\n",
    " "
   ]
  },
  {
   "cell_type": "code",
   "execution_count": null,
   "metadata": {},
   "outputs": [],
   "source": []
  }
 ],
 "metadata": {
  "kernelspec": {
   "display_name": "Python 3",
   "language": "python",
   "name": "python3"
  },
  "language_info": {
   "codemirror_mode": {
    "name": "ipython",
    "version": 3
   },
   "file_extension": ".py",
   "mimetype": "text/x-python",
   "name": "python",
   "nbconvert_exporter": "python",
   "pygments_lexer": "ipython3",
   "version": "3.8.3"
  }
 },
 "nbformat": 4,
 "nbformat_minor": 4
}
