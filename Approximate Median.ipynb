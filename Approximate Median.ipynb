{
 "cells": [
  {
   "cell_type": "code",
   "execution_count": 15,
   "metadata": {},
   "outputs": [],
   "source": [
    "import random\n",
    "import math"
   ]
  },
  {
   "cell_type": "code",
   "execution_count": 16,
   "metadata": {},
   "outputs": [],
   "source": [
    "def naivemethod(arr,n):\n",
    "    temp = []\n",
    "    for i in range(n):    \n",
    "        for j in range(i+1, n):    \n",
    "            if(arr[i] > arr[j]):    \n",
    "                temp = arr[i];    \n",
    "                arr[i] = arr[j];    \n",
    "                arr[j] = temp;   \n",
    "\n",
    "    if n%2 != 0:\n",
    "        val = int(((n+1)/2)-1)\n",
    "        return arr[val]\n",
    "    else:\n",
    "        val1 = int(n/2)\n",
    "        val2 = val1+1\n",
    "        return (arr[val1-1]+arr[val2-1])/2"
   ]
  },
  {
   "cell_type": "code",
   "execution_count": 17,
   "metadata": {},
   "outputs": [],
   "source": [
    "def approxmedian(arr,n1):\n",
    "    c = int(input('Enter the any contstant value'))\n",
    "    k = c * int(math.log(n))\n",
    "    s =set()\n",
    "    for i in range(k):\n",
    "        s.add(arr[random.randint(0,n-1)])\n",
    "    s = list(s)\n",
    "    s.sort()\n",
    "    val = int(len(s)/2 -1)\n",
    "    return s[val]"
   ]
  },
  {
   "cell_type": "code",
   "execution_count": 18,
   "metadata": {},
   "outputs": [
    {
     "name": "stdout",
     "output_type": "stream",
     "text": [
      "Enter the size of array: 10\n",
      "Enter the values of array: \n",
      "1\n",
      "2\n",
      "3\n",
      "4\n",
      "5\n",
      "6\n",
      "7\n",
      "8\n",
      "9\n",
      "0\n"
     ]
    }
   ],
   "source": [
    "n = int(input('Enter the size of array: '))\n",
    "print(\"Enter the values of array: \")\n",
    "arr = [int(input()) for i in range(n)]\n",
    "# [5, 6, 8, 7, 55, 99, 1, 3, 77, 11]"
   ]
  },
  {
   "cell_type": "markdown",
   "metadata": {},
   "source": []
  },
  {
   "cell_type": "markdown",
   "metadata": {},
   "source": [
    "# Naive Method\n",
    "\n",
    "Median of a sorted array of size n is defined as the middle element when n is odd and average of middle two elements when n is even. Median of an unsorted array time complexity is O(n Log n) as we need to sort the array first. After sorting the array we need to use median formula to find the Median.\n",
    "\n",
    "Input  : a[] = {1, 3, 4, 2, 6, 5, 8, 7}\n",
    "\n",
    "Output : Median = 4.5\n",
    "\n",
    "Since number of elements are even, median is average of 4th and 5th largest elements  which means (4 + 5)/2 = 4.5\n",
    "\n",
    "Input  : a[] = {4, 4, 4, 4, 4}\n",
    "\n",
    "Output : Median = 4 \n"
   ]
  },
  {
   "cell_type": "code",
   "execution_count": 19,
   "metadata": {},
   "outputs": [
    {
     "name": "stdout",
     "output_type": "stream",
     "text": [
      "Median: 4.5\n"
     ]
    }
   ],
   "source": [
    "print('Median:',naivemethod(arr,n))"
   ]
  },
  {
   "cell_type": "markdown",
   "metadata": {},
   "source": [
    "# Approximate Median Algorithm\n",
    "\n",
    "This algorithm is a non deterministic algorithm which takes O((Log n) x (Log Log n)) time and produces incorrect result with probability less than or equal to 2/n².\n",
    "\n",
    "**<u>Algorithm:</u>**\n",
    "\n",
    "1. Randomly choose k elements from the array where k=c log n (c is some constant)\n",
    "2. Insert then into a set.\n",
    "3. Sort elements of the set.\n",
    "4. Return median of the set i.e. (k/2)th element from the set\n",
    "\n",
    "**<u>Time Complexity:</u>** O (log n (log log n))\n",
    "\n",
    "The algorithm produces incorrect result with probability less that or equal to 2/n².\n"
   ]
  },
  {
   "cell_type": "code",
   "execution_count": 20,
   "metadata": {},
   "outputs": [
    {
     "name": "stdout",
     "output_type": "stream",
     "text": [
      "Enter the any contstant value1000\n",
      "Approximate Median: 4\n"
     ]
    }
   ],
   "source": [
    "print('Approximate Median:',approxmedian(arr,n))"
   ]
  },
  {
   "cell_type": "code",
   "execution_count": null,
   "metadata": {},
   "outputs": [],
   "source": []
  }
 ],
 "metadata": {
  "interpreter": {
   "hash": "3dc8e47f82edb7463ca464588a7358a3d93aa0e55ce1d99dfe2c7a888c7afeb3"
  },
  "kernelspec": {
   "display_name": "Python 3",
   "language": "python",
   "name": "python3"
  },
  "language_info": {
   "codemirror_mode": {
    "name": "ipython",
    "version": 3
   },
   "file_extension": ".py",
   "mimetype": "text/x-python",
   "name": "python",
   "nbconvert_exporter": "python",
   "pygments_lexer": "ipython3",
   "version": "3.10.1"
  }
 },
 "nbformat": 4,
 "nbformat_minor": 2
}
