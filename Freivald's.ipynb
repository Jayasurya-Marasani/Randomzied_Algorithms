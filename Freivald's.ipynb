{
 "cells": [
  {
   "cell_type": "code",
   "execution_count": 25,
   "metadata": {},
   "outputs": [],
   "source": [
    "import numpy as np\n",
    "import random\n",
    "import math\n",
    "import matplotlib.pyplot as plt\n"
   ]
  },
  {
   "cell_type": "code",
   "execution_count": 26,
   "metadata": {},
   "outputs": [],
   "source": [
    "def naive_method(a,b,n):\n",
    "    res = [[0 for j in range(n)] for i in range(n)]\n",
    "    for i in range(n):\n",
    "        for j in range(n):\n",
    "            for k in range(n):\n",
    "                res[i][j] += a[i][k]*b[k][j]\n",
    "    return res"
   ]
  },
  {
   "cell_type": "code",
   "execution_count": 27,
   "metadata": {},
   "outputs": [],
   "source": [
    "def check(x,y):\n",
    "    if x==y:\n",
    "        return True\n",
    "    else:\n",
    "        return False"
   ]
  },
  {
   "cell_type": "code",
   "execution_count": 28,
   "metadata": {},
   "outputs": [],
   "source": [
    "def freivald(a,b,c,n):\n",
    "    r = [random.randint(0,1) for i in range(n)]\n",
    "    br = [0]*n\n",
    "    for i in range(n):\n",
    "        for j in range(n):\n",
    "            br[i] += b[i][j]*r[j]\n",
    "    abr = [0]*n\n",
    "   \n",
    "    for i in range(n):\n",
    "        for j in range(n):\n",
    "            abr[i] += a[i][j]*br[j]\n",
    "    cr = [0]*n\n",
    "\n",
    "    for i in range(n):\n",
    "        for j in range(n):\n",
    "            cr[i] += c[i][j]*r[j]\n",
    "    for i in range(n):\n",
    "        if abr[i]-cr[i]!=0:\n",
    "            return False\n",
    "    return True"
   ]
  },
  {
   "cell_type": "code",
   "execution_count": 29,
   "metadata": {},
   "outputs": [],
   "source": [
    "def algo(k):\n",
    "    flag =1\n",
    "    for i in range(k):\n",
    "        if  not freivald(A,B,C,n):\n",
    "            return False\n",
    "    return True"
   ]
  },
  {
   "cell_type": "code",
   "execution_count": 30,
   "metadata": {},
   "outputs": [],
   "source": [
    "n = int(input('Enter the size of Matrix:\\n'))\n",
    "A = []\n",
    "B = []\n",
    "C = []"
   ]
  },
  {
   "cell_type": "code",
   "execution_count": 31,
   "metadata": {},
   "outputs": [
    {
     "name": "stdout",
     "output_type": "stream",
     "text": [
      "Enter the values for the Matrix A:\n",
      "\n",
      "[[4, 5], [6, 7]]\n"
     ]
    }
   ],
   "source": [
    "print('Enter the values for the Matrix A:\\n')\n",
    "for i in range(0,n):\n",
    "    a = []\n",
    "    for j in range(n):\n",
    "        a.append(int(input()))\n",
    "    A.append(a)\n",
    "print(A)"
   ]
  },
  {
   "cell_type": "code",
   "execution_count": 32,
   "metadata": {},
   "outputs": [
    {
     "name": "stdout",
     "output_type": "stream",
     "text": [
      "Enter the values for Matrix B:\n",
      "\n",
      "[[1, 2], [3, 4]]\n"
     ]
    }
   ],
   "source": [
    "print('Enter the values for Matrix B:\\n')\n",
    "for i in range(0,n):\n",
    "    a = []\n",
    "    for j in range(n):\n",
    "        a.append(int(input()))\n",
    "    B.append(a)\n",
    "print(B)"
   ]
  },
  {
   "cell_type": "code",
   "execution_count": 33,
   "metadata": {},
   "outputs": [
    {
     "name": "stdout",
     "output_type": "stream",
     "text": [
      "Enter the values for the Matrix C:\n",
      "[[5, 8], [11, 12]]\n"
     ]
    }
   ],
   "source": [
    "print('Enter the values for the Matrix C:')\n",
    "for i in range(0,n):\n",
    "    a = []\n",
    "    for j in range(n):\n",
    "        a.append(int(input()))\n",
    "    C.append(a)\n",
    "print(C)"
   ]
  },
  {
   "cell_type": "markdown",
   "metadata": {},
   "source": [
    "# Naive Method"
   ]
  },
  {
   "cell_type": "markdown",
   "metadata": {},
   "source": [
    "**The simple solution is multiplying A and B and checking whether AB=C. This method has O(n³)**"
   ]
  },
  {
   "cell_type": "code",
   "execution_count": 34,
   "metadata": {},
   "outputs": [
    {
     "name": "stdout",
     "output_type": "stream",
     "text": [
      "False\n"
     ]
    }
   ],
   "source": [
    "print(check(naive_method(A,B,n),C))\n"
   ]
  },
  {
   "cell_type": "markdown",
   "metadata": {},
   "source": [
    "# Freivald's Algorithm"
   ]
  },
  {
   "cell_type": "markdown",
   "metadata": {},
   "source": [
    "Freivald's Algorithm probabilistic randomized algorithm used to verify matrix multiplication. Given three n x n matrices, Freivalds' algorithm determines in o(kn<sup>2</sup>) whether the matrices are equal for a chosen k value with probability of failure less than 1/2<sup>k</sup>.\n",
    "\n",
    "**<u>Algorithm:</u>**\n",
    "1. Input n*n Matrices, i.e A,B and C.\n",
    "2. To verify A×B=C, choose a n×1 column vector **r** with randomly choosing 0 or 1.\n",
    "3. Compute A×(B×r) and C×r which takes O(n²) time.\n",
    "4. if A×(B×r) ≠ C×r, Then Output False else if A×(B×r) = C×r Output True.\n",
    "\n",
    "**<u>Example:</u>**\n",
    "\n",
    "<img src=\"https://iq.opengenus.org/content/images/2018/06/eg1.jpg\" width=800 height=600 />\n",
    "\n",
    "This yields the zero vector, suggesting the possibility that AB = C. However, if in a second trial the vector r=[1,0] is selected, the result becomes:\n",
    "\n",
    "<img src=\"https://iq.opengenus.org/content/images/2018/06/eg2.jpg\" width=800 height=400 />\n",
    "\n",
    "**Complexity**\n",
    "\n",
    "1. Worst case time complexity: Θ(kn²)\n",
    "\n",
    "2. Space complexity: Θ(n²)\n",
    " \n",
    "where k = number of times the algorithm iterates.\n",
    "\n",
    "**Error Analysis**\n",
    "\n",
    "Probability of Error \n",
    "\n",
    "**Case 1: A×B = C** The Probability of Error is 0\n",
    "\n",
    "**Case 2: A×B ≠ C** The Probability of Error is less than 1/2  and for k iterations probability of failure less than 1/2<sup>k</sup>.\n"
   ]
  },
  {
   "cell_type": "code",
   "execution_count": 35,
   "metadata": {},
   "outputs": [
    {
     "data": {
      "text/plain": [
       "False"
      ]
     },
     "execution_count": 35,
     "metadata": {},
     "output_type": "execute_result"
    }
   ],
   "source": [
    "k = int(input('Enter the number of iterations:\\n'))\n",
    "algo(k)"
   ]
  },
  {
   "cell_type": "code",
   "execution_count": null,
   "metadata": {},
   "outputs": [],
   "source": []
  }
 ],
 "metadata": {
  "interpreter": {
   "hash": "3dc8e47f82edb7463ca464588a7358a3d93aa0e55ce1d99dfe2c7a888c7afeb3"
  },
  "kernelspec": {
   "display_name": "Python 3",
   "language": "python",
   "name": "python3"
  },
  "language_info": {
   "codemirror_mode": {
    "name": "ipython",
    "version": 3
   },
   "file_extension": ".py",
   "mimetype": "text/x-python",
   "name": "python",
   "nbconvert_exporter": "python",
   "pygments_lexer": "ipython3",
   "version": "3.10.1"
  }
 },
 "nbformat": 4,
 "nbformat_minor": 2
}
