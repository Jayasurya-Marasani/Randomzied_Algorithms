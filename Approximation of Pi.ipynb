{
 "cells": [
  {
   "cell_type": "markdown",
   "metadata": {},
   "source": [
    "Algorithm"
   ]
  },
  {
   "cell_type": "code",
   "execution_count": 1,
   "metadata": {},
   "outputs": [],
   "source": [
    "# here we consider a circle with radius 1\n",
    "# fixing a variable  INTERVAL for how many times the loop should run\n",
    "# as the value of INTERVAL increases , the approximation of pi would be more accurate\n",
    "# At the start , both points inside circle and square are 0\n",
    "# we then randomly generate x and y value within the range of -1 to 1\n",
    "# The range is given from -1 to 1 since the difined square has the length which varies from -1 to 1\n",
    "# Then we calculate the distance between (x, y) from the origin\n",
    "# and check if (x, y) lies inside the circle\n",
    "# if it lies inside the circle we will incriment the circle points and square points\n",
    "# if not then we will increment only the square points\n",
    "# now we estimate the value of pi from the equation mentioned in the document\n",
    "# pi = 4 * circle_points / square_points\n"
   ]
  },
  {
   "cell_type": "markdown",
   "metadata": {},
   "source": [
    "Code "
   ]
  },
  {
   "cell_type": "code",
   "execution_count": 2,
   "metadata": {},
   "outputs": [
    {
     "name": "stdout",
     "output_type": "stream",
     "text": [
      "Enter the number of iteration: 100\n",
      "Final Estimation of Pi= 3.1444\n"
     ]
    }
   ],
   "source": [
    "import random\n",
    "INTERVAL = int(input(\"Enter the number of iteration: \"))\n",
    "circle_points = 0\n",
    "square_points = 0\n",
    "\n",
    "for i in range(INTERVAL ** 2):\n",
    "    x = random.uniform(-1, 1)\n",
    "    y = random.uniform(-1, 1)\n",
    "    origin_dist = x ** 2 + y ** 2\n",
    "\n",
    "    if origin_dist <= 1:\n",
    "        circle_points += 1\n",
    "    square_points += 1\n",
    "\n",
    "pi = 4 * circle_points / square_points\n",
    "print(\"Final Estimation of Pi=\", pi)"
   ]
  },
  {
   "cell_type": "code",
   "execution_count": null,
   "metadata": {},
   "outputs": [],
   "source": []
  },
  {
   "cell_type": "code",
   "execution_count": null,
   "metadata": {},
   "outputs": [],
   "source": []
  }
 ],
 "metadata": {
  "kernelspec": {
   "display_name": "Python 3",
   "language": "python",
   "name": "python3"
  },
  "language_info": {
   "codemirror_mode": {
    "name": "ipython",
    "version": 3
   },
   "file_extension": ".py",
   "mimetype": "text/x-python",
   "name": "python",
   "nbconvert_exporter": "python",
   "pygments_lexer": "ipython3",
   "version": "3.8.3"
  }
 },
 "nbformat": 4,
 "nbformat_minor": 4
}
