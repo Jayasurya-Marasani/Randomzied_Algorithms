{
 "cells": [
  {
   "cell_type": "markdown",
   "metadata": {},
   "source": [
    "# Primality Testing"
   ]
  },
  {
   "cell_type": "markdown",
   "metadata": {},
   "source": [
    "**Normal Method which has time complexity O(n)**"
   ]
  },
  {
   "cell_type": "code",
   "execution_count": 2,
   "metadata": {},
   "outputs": [
    {
     "name": "stdout",
     "output_type": "stream",
     "text": [
      "Enter the Number340567984\n",
      "The number is not Prime\n"
     ]
    }
   ],
   "source": [
    "n = int(input('Enter the Number'))\n",
    "flag=-1\n",
    "if n==1:\n",
    "    print('The number is not Prime')\n",
    "else:\n",
    "    for i in range(2,n):\n",
    "        if n%i==0:\n",
    "            print('The number is not Prime')\n",
    "            flag = 1\n",
    "            break\n",
    "    if flag!=1:\n",
    "        print('The number is Prime')"
   ]
  },
  {
   "cell_type": "markdown",
   "metadata": {},
   "source": [
    "**Normal Method which has time complexity O(√n)**"
   ]
  },
  {
   "cell_type": "code",
   "execution_count": 3,
   "metadata": {},
   "outputs": [
    {
     "name": "stdout",
     "output_type": "stream",
     "text": [
      "Enter the Number340567984\n",
      "The number is not Prime\n"
     ]
    }
   ],
   "source": [
    "n = int(input('Enter the Number'))\n",
    "\n",
    "if n<=1:\n",
    "    print('The number is not Prime')\n",
    "elif n==2 or n==3:\n",
    "    print('The number is Prime')\n",
    "elif n%2==0 or n%3==0:\n",
    "    print('The number is not Prime')\n",
    "else:\n",
    "    i=5\n",
    "    while(i*i<=n):\n",
    "        if n%i==0 and n%(i+2)==0:\n",
    "            print('The number is not Prime')\n",
    "            break\n",
    "        i=i+6\n",
    "    print('The number is Prime')"
   ]
  },
  {
   "cell_type": "markdown",
   "metadata": {},
   "source": [
    "**Fermat's Primality Test**\n",
    "\n",
    "The Time Complexity for this test is O(K Log n)\n",
    "\n",
    "Fermat's Little Theorem:\n",
    "If n is a prime number, then for every a, 1 < a < n-1,\n",
    "\n",
    "a^n(n-1) ≡ 1 (mod n)\n",
    " OR \n",
    "a^(n-1) % n = 1 \n",
    " \n",
    "\n",
    "Example: Since 5 is prime, 24 ≡ 1 (mod 5) [or 24%5 = 1],\n",
    "         34 ≡ 1 (mod 5) and 44 ≡ 1 (mod 5) \n",
    "\n",
    "         Since 7 is prime, 26 ≡ 1 (mod 7),\n",
    "         36 ≡ 1 (mod 7), 46 ≡ 1 (mod 7) \n",
    "         56 ≡ 1 (mod 7) and 66 ≡ 1 (mod 7) \n",
    "\n",
    "If a given number is prime, then this method always returns true. If the given number is composite (or non-prime), then it may return true or false, but the probability of producing incorrect results for composite is low and can be reduced by doing more iterations.\n",
    "\n",
    "**<u>Algorithm:</u>**\n",
    "\n",
    "// Higher value of k indicates probability of correct\n",
    "\n",
    "// results for composite inputs become higher. For prime\n",
    "\n",
    "// inputs, result is always correct\n",
    "1. Repeat following k times:\n",
    "      a) Pick a randomly in the range [2, n - 2]\n",
    "      b) If gcd(a, n) ≠ 1, then return false\n",
    "      c) If a^(n-1) & (mod n)!=1, then return false\n",
    "2. Return true [probably prime].\n"
   ]
  },
  {
   "cell_type": "code",
   "execution_count": 4,
   "metadata": {},
   "outputs": [
    {
     "name": "stdout",
     "output_type": "stream",
     "text": [
      "Enter the Number:34059687\n",
      "Number of Iterations:400\n",
      "The number is not Prime\n"
     ]
    }
   ],
   "source": [
    "import random as rn\n",
    "import math\n",
    "def binpower(a, n, p):\n",
    "    res = 1\n",
    "    a = a % p \n",
    "    while n > 0:\n",
    "        if n % 2:\n",
    "            res = (res * a) % p\n",
    "            n = n - 1\n",
    "        else:\n",
    "            a = (a ** 2) % p\n",
    "            n = n // 2\n",
    "             \n",
    "    return res % p\n",
    "n = int(input('Enter the Number:'))\n",
    "k = int(input('Number of Iterations:'))\n",
    "\n",
    "if n==1 or n==4:\n",
    "    print('The number is not Prime')\n",
    "elif n==2 or n==3:\n",
    "    print('The number is Prime')\n",
    "else:\n",
    "    flag =-1\n",
    "    for i in range(k):\n",
    "        a=rn.randint(2,n-2)\n",
    "        if math.gcd(a,n)==1:\n",
    "            if binpower(a,n-1,n)==1:\n",
    "                flag=1\n",
    "            else:\n",
    "                flag=-1\n",
    "if flag==1:\n",
    "    print('The number is Prime')\n",
    "else:\n",
    "    print('The number is not Prime')"
   ]
  },
  {
   "cell_type": "markdown",
   "metadata": {},
   "source": [
    "# Solvay Strassen\n",
    "\n",
    "We divide Solovay Strassen Primality Test algorithm in following two parts:\n",
    "1. Find the value of Euler Criterion formula\n",
    "2. Find Jacobi Symbol for given value\n",
    "\n",
    "**<u>Euler Criterion Formula</u>**\n",
    "\n",
    "<img src=\"https://1.bp.blogspot.com/-SZSobniC-Tc/WMrM_FaQU_I/AAAAAAAAFV0/sp4TPL1GNxU2ofFLg_16NXiDF_4FiSeAgCLcB/s1600/1.JPG\" width=200 height=50 />\n",
    "\n",
    "where\n",
    "a: any random variable from 2 to (n-1).\n",
    "\n",
    "n: given number for primality test.\n",
    "\n",
    "**<u>Jacabi Symbol</u>**\n",
    "\n",
    "Algorithm: -\n",
    "\n",
    "Jacobi(a, n)\n",
    "{\n",
    "\n",
    "      j = 1\n",
    "\n",
    "      while (a not 0) do {\n",
    "\n",
    "           while (a even) do {\n",
    "\n",
    "                a = a/2\n",
    "\n",
    "                if (n = 3 (mod 8) or n = 5 (mod 8)) then\n",
    "\n",
    "                     j = -j\n",
    "\n",
    "                }\n",
    "\n",
    "            interchange(a, n)\n",
    "\n",
    "            if (a = 3 (mod 4) and n = 3 (mod 4)) then\n",
    "\n",
    "                  j = -j\n",
    "\n",
    "                  a = a mod n\n",
    "\n",
    "      }\n",
    "\n",
    "      Return j\n",
    "      \n",
    "}\n",
    "\n",
    "When a is even positive number then\n",
    "\n",
    "<img src=\"https://3.bp.blogspot.com/--p8Noy8F55o/WMrNTc-tYEI/AAAAAAAAFV4/TPhnLwX2pCE8Va5DAXYXPDftcwTa_qHvQCLcB/s1600/2.JPG\" width=300 height=75 />\n",
    "\n",
    "When a is odd positive number then\n",
    "\n",
    "<img src=\"https://2.bp.blogspot.com/-cO_yyIN9Opk/WMrNWcKTH-I/AAAAAAAAFV8/pAu40qGRPDkC5sgnchsTo3Dz_R9ZUR7hgCLcB/s1600/3.JPG\" width=300 height=75 />\n",
    "\n",
    "We compare this Jacobi symbol with Euler criterion formula and if both are same then the number is Prime and if both are different then number is Composite.\n"
   ]
  },
  {
   "cell_type": "code",
   "execution_count": 6,
   "metadata": {},
   "outputs": [
    {
     "name": "stdout",
     "output_type": "stream",
     "text": [
      "Enter the number: 3405987\n",
      "Enter the number of iterations: 500\n",
      "The number is not Prime\n"
     ]
    }
   ],
   "source": [
    "from random import randrange\n",
    "import time\n",
    "def solovay_strassen(n, k):\n",
    "    if n == 2 or n==3:\n",
    "        return True\n",
    "    if not n & 1:\n",
    "        return False\n",
    "\n",
    "    def legendre(a, p):\n",
    "        if p < 2:\n",
    "            raise ValueError('p should not be less than 2')\n",
    "        if (a == 0) or (a == 1):\n",
    "            return a\n",
    "        if a % 2 == 0:\n",
    "            r = legendre(a // 2, p)\n",
    "            if (p * p - 1) & 8 != 0:\n",
    "                r *= -1\n",
    "        else:\n",
    "            r = legendre(p % a, a)\n",
    "            if (a - 1) * (p - 1) & 4 != 0:\n",
    "                r *= -1\n",
    "        return r\n",
    "\n",
    "    for i in range(k):\n",
    "        a = randrange(2, n - 1) \n",
    "        x = legendre(a, n)\n",
    "        y = pow(a, (n - 1) // 2, n) \n",
    "        if (x == 0) or (y != x % n):\n",
    "            return False\n",
    "    return True\n",
    "\n",
    "n = int(input(\"Enter the number: \"))\n",
    "k = int(input(\"Enter the number of iterations: \"))\n",
    "start_time = time.time()\n",
    "\n",
    "if solovay_strassen(n,k):\n",
    "    print('The number is Prime')\n",
    "else:\n",
    "    print('The number is not Prime')\n"
   ]
  },
  {
   "cell_type": "code",
   "execution_count": null,
   "metadata": {},
   "outputs": [],
   "source": []
  }
 ],
 "metadata": {
  "interpreter": {
   "hash": "3dc8e47f82edb7463ca464588a7358a3d93aa0e55ce1d99dfe2c7a888c7afeb3"
  },
  "kernelspec": {
   "display_name": "Python 3",
   "language": "python",
   "name": "python3"
  },
  "language_info": {
   "codemirror_mode": {
    "name": "ipython",
    "version": 3
   },
   "file_extension": ".py",
   "mimetype": "text/x-python",
   "name": "python",
   "nbconvert_exporter": "python",
   "pygments_lexer": "ipython3",
   "version": "3.10.1"
  }
 },
 "nbformat": 4,
 "nbformat_minor": 2
}
