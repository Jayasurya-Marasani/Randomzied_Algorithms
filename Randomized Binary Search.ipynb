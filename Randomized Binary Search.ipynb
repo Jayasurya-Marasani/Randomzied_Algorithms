{
 "cells": [
  {
   "cell_type": "markdown",
   "metadata": {},
   "source": [
    "# Recursive Algorithm"
   ]
  },
  {
   "cell_type": "markdown",
   "metadata": {},
   "source": [
    "Algorithm"
   ]
  },
  {
   "cell_type": "code",
   "execution_count": 1,
   "metadata": {},
   "outputs": [],
   "source": [
    "# Pivot= random index in between [left, right] \n",
    "#     which can be found like below:\n",
    "#     pivot=left+ rand()%(right-left+1)\n",
    "# If array[pivot]==key\n",
    "#         Key is found. Return\n",
    "# Else If array[pivot]<key\n",
    "#         Search only in the right half, \n",
    "#         thus set left= pivot +1, new range [pivot+1, right] \n",
    "# Else if array[pivot]>key\n",
    "#         Search only in the left half, \n",
    "#         thus set right= pivot -1, new range [left, pivot-1]\n",
    "# If left>right\n",
    "#         Break and element is not found"
   ]
  },
  {
   "cell_type": "markdown",
   "metadata": {},
   "source": [
    "Code"
   ]
  },
  {
   "cell_type": "code",
   "execution_count": 1,
   "metadata": {},
   "outputs": [
    {
     "name": "stdout",
     "output_type": "stream",
     "text": [
      "Enter the elements of the array: 8 7 4 5 3 6 \n",
      "Enter the element you need to search: 4\n",
      "The searched element is not present\n"
     ]
    }
   ],
   "source": [
    " \n",
    "import random\n",
    "\n",
    "def getRandom(x, y):\n",
    "    tmp = (x + random.randint(0, 100000) % (y - x + 1))\n",
    "    return tmp\n",
    "\n",
    "def randomizedBinarySearch(arr,l,r,x) :\n",
    "    if r>=l:\n",
    "        pivot =getRandom(l,r)\n",
    "        if arr[pivot] == x:\n",
    "            return pivot\n",
    "             \n",
    "        if arr[pivot]>x:\n",
    "            return randomizedBinarySearch(arr, l, pivot-1, x)\n",
    "                  \n",
    "        return randomizedBinarySearch(arr, pivot+1,r, x)\n",
    "    return -1\n",
    "     \n",
    "\n",
    "if __name__=='__main__':\n",
    "    arr =input(\"Enter the elements of the array: \")\n",
    "    arr= [int(x)  for x in arr.split()]\n",
    "    n=len(arr)\n",
    "    l=arr[0]\n",
    "    r=arr[-1]\n",
    "    x=int(input(\"Enter the element you need to search: \"))\n",
    "    result = randomizedBinarySearch(arr, l,r,x)\n",
    "    if result== -1:\n",
    "        print(\"The searched element is not present\")\n",
    "    else :\n",
    "        print(\"The element is present at index: \", result)"
   ]
  },
  {
   "cell_type": "code",
   "execution_count": null,
   "metadata": {},
   "outputs": [],
   "source": []
  },
  {
   "cell_type": "markdown",
   "metadata": {},
   "source": [
    "# Iterative Algorithm"
   ]
  },
  {
   "cell_type": "markdown",
   "metadata": {},
   "source": [
    "Algorithm"
   ]
  },
  {
   "cell_type": "code",
   "execution_count": null,
   "metadata": {},
   "outputs": [],
   "source": [
    "#Defining a function for  generating the random value\n",
    "#Defining another function to search :\n",
    "    #while the left is less than or equal to right :\n",
    "    # If x greater, ignore left half\n",
    "    # if we reach here, then element was\n",
    "    # else not present return -1"
   ]
  },
  {
   "cell_type": "markdown",
   "metadata": {},
   "source": [
    "Code"
   ]
  },
  {
   "cell_type": "code",
   "execution_count": 8,
   "metadata": {},
   "outputs": [
    {
     "name": "stdout",
     "output_type": "stream",
     "text": [
      "Enter the elements of the array1 2 3 4 5 6 7\n",
      "Enter the element you need to search: 5\n",
      "Element is present at index 4\n"
     ]
    }
   ],
   "source": [
    "\n",
    "from random import randint\n",
    "\n",
    "def getRandom(x, y):\n",
    "    return randint(x,y)\n",
    " \n",
    "\n",
    "def randomizedBinarySearch(arr, l, r, x):\n",
    "    while (l <= r):\n",
    "        m = getRandom(l, r)\n",
    "\n",
    "        \n",
    "        if (arr[m] == x):\n",
    "            return m\n",
    " \n",
    "        if (arr[m] < x):\n",
    "            l = m + 1\n",
    " \n",
    "        else:\n",
    "            r = m - 1\n",
    "    return -1\n",
    "\n",
    "\n",
    "\n",
    "if __name__=='__main__':\n",
    "    arr =input(\"Enter the elements of the array\")\n",
    "    arr= [int(x)  for x in arr.split()]\n",
    "    n,l,r=len(arr),arr[0],arr[-1]\n",
    "    x=int(input(\"Enter the element you need to search: \"))\n",
    "    result = randomizedBinarySearch(arr, 0, n-1, x)\n",
    "    if result == 1:\n",
    "        print(\"Element is not present in array\")\n",
    "    else:\n",
    "        print(\"Element is present at index\", result)\n",
    " "
   ]
  },
  {
   "cell_type": "code",
   "execution_count": null,
   "metadata": {},
   "outputs": [],
   "source": []
  }
 ],
 "metadata": {
  "kernelspec": {
   "display_name": "Python 3",
   "language": "python",
   "name": "python3"
  },
  "language_info": {
   "codemirror_mode": {
    "name": "ipython",
    "version": 3
   },
   "file_extension": ".py",
   "mimetype": "text/x-python",
   "name": "python",
   "nbconvert_exporter": "python",
   "pygments_lexer": "ipython3",
   "version": "3.8.3"
  }
 },
 "nbformat": 4,
 "nbformat_minor": 4
}
